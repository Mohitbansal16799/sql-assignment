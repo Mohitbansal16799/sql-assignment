{
 "cells": [
  {
   "cell_type": "markdown",
   "id": "c04cfc28",
   "metadata": {},
   "source": [
    "Q-1. Write an SQL query to print the first three characters of FIRST_NAME from Worker table. \n",
    "\n",
    "Ans:select SUBSTRING(FIRST_NAME,1,3) from WORKER\n",
    "\n",
    "Q-2. Write an SQL query to find the position of the alphabet (‘a’) in the first name column ‘Amitabh’ from Worker table. \n",
    "\n",
    "Ans:select INSTR(FIRST_NAME,BINARY'a') from worker WHERE FIRST_NAME='Amitabh'\n",
    "\n",
    "Q-3. Write an SQL query to print the name of employees having the highest salary in each department. \n",
    "\n",
    "ANS:SELECT t.DEPARTMENT,t.FIRST_NAME,t.Salary from(SELECT max(Salary) as TotalSalary,DEPARTMENT from Worker group by DEPARTMENT) as TempNew Inner Join Worker t on TempNew.DEPARTMENT=t.DEPARTMENT and TempNew.TotalSalary=t.Salary"
   ]
  },
  {
   "cell_type": "code",
   "execution_count": null,
   "id": "92754df2",
   "metadata": {},
   "outputs": [],
   "source": []
  }
 ],
 "metadata": {
  "kernelspec": {
   "display_name": "Python 3 (ipykernel)",
   "language": "python",
   "name": "python3"
  },
  "language_info": {
   "codemirror_mode": {
    "name": "ipython",
    "version": 3
   },
   "file_extension": ".py",
   "mimetype": "text/x-python",
   "name": "python",
   "nbconvert_exporter": "python",
   "pygments_lexer": "ipython3",
   "version": "3.9.7"
  }
 },
 "nbformat": 4,
 "nbformat_minor": 5
}
