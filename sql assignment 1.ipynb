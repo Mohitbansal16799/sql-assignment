{
 "cells": [
  {
   "cell_type": "markdown",
   "id": "4cb043de",
   "metadata": {},
   "source": [
    "Q1Q-1. Write an SQL query to fetch “FIRST_NAME” from Worker table using the alias\n",
    "name as &lt;WORKER_NAME&gt;."
   ]
  },
  {
   "cell_type": "markdown",
   "id": "ef80fc69",
   "metadata": {},
   "source": [
    "Ans select worker.FIRST_NAME as WORKER_NAME from worker"
   ]
  },
  {
   "cell_type": "markdown",
   "id": "a1103ffe",
   "metadata": {},
   "source": [
    "Q-2. Write an SQL query to fetch unique values of DEPARTMENT from Worker table."
   ]
  },
  {
   "cell_type": "markdown",
   "id": "b283c14b",
   "metadata": {},
   "source": [
    "select distinct DEPARTMENT from worker"
   ]
  },
  {
   "cell_type": "markdown",
   "id": "03619e93",
   "metadata": {},
   "source": [
    "Q3. Write an SQL query to show the last 5 record from a table."
   ]
  },
  {
   "cell_type": "code",
   "execution_count": null,
   "id": "24912273",
   "metadata": {},
   "outputs": [],
   "source": [
    "Ans select * from worker order by desc limit = "
   ]
  }
 ],
 "metadata": {
  "kernelspec": {
   "display_name": "Python 3 (ipykernel)",
   "language": "python",
   "name": "python3"
  },
  "language_info": {
   "codemirror_mode": {
    "name": "ipython",
    "version": 3
   },
   "file_extension": ".py",
   "mimetype": "text/x-python",
   "name": "python",
   "nbconvert_exporter": "python",
   "pygments_lexer": "ipython3",
   "version": "3.9.7"
  }
 },
 "nbformat": 4,
 "nbformat_minor": 5
}
