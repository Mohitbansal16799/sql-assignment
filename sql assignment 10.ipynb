{
 "cells": [
  {
   "cell_type": "markdown",
   "id": "d7c7d7bd",
   "metadata": {},
   "source": [
    "Q-19. Write an SQL query to determine the 5th highest salary without using TOP or limit method. Ans:SELECT name, salary FROM #Employee e1 WHERE N-1 = (SELECT COUNT(DISTINCT salary) FROM #Employee e2 WHERE e2.salary > e1.salary)\n",
    "\n",
    "Q-20. Write an SQL query to fetch the list of employees with the same salary. Ans:select w.worker_id,w.salary,w.FIRST_NAME from worker W,worker W1 where w.salary=w1.salary and w.worker_id != w1.worker_id"
   ]
  },
  {
   "cell_type": "code",
   "execution_count": null,
   "id": "c0e6ab70",
   "metadata": {},
   "outputs": [],
   "source": []
  }
 ],
 "metadata": {
  "kernelspec": {
   "display_name": "Python 3 (ipykernel)",
   "language": "python",
   "name": "python3"
  },
  "language_info": {
   "codemirror_mode": {
    "name": "ipython",
    "version": 3
   },
   "file_extension": ".py",
   "mimetype": "text/x-python",
   "name": "python",
   "nbconvert_exporter": "python",
   "pygments_lexer": "ipython3",
   "version": "3.9.7"
  }
 },
 "nbformat": 4,
 "nbformat_minor": 5
}
