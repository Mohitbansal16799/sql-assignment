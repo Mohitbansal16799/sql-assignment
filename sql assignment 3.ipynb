{
 "cells": [
  {
   "cell_type": "markdown",
   "id": "bdb61223",
   "metadata": {},
   "source": [
    "Q-1. Write an SQL query to print the FIRST_NAME from Worker table after removing white spaces from the right side. \n",
    "\n",
    "Ans: select RTRIM(FIRST_NAME) from worker\n",
    "\n",
    "Q-2. Write an SQL query that fetches the unique values of DEPARTMENT from Worker table and prints its length. \n",
    "\n",
    "Ans: select length distinct(DEPARTMENT) from worker\n",
    "\n",
    "Q-3. Write an SQL query to fetch nth max salaries from a table Ans:SELECT Salary FROM Worker ORDER BY Salary DESC LIMIT n-1,1; select TOP 1 salary from(select distinct n salary from worker order by salary desc) order by salary asc"
   ]
  }
 ],
 "metadata": {
  "kernelspec": {
   "display_name": "Python 3 (ipykernel)",
   "language": "python",
   "name": "python3"
  },
  "language_info": {
   "codemirror_mode": {
    "name": "ipython",
    "version": 3
   },
   "file_extension": ".py",
   "mimetype": "text/x-python",
   "name": "python",
   "nbconvert_exporter": "python",
   "pygments_lexer": "ipython3",
   "version": "3.9.7"
  }
 },
 "nbformat": 4,
 "nbformat_minor": 5
}
