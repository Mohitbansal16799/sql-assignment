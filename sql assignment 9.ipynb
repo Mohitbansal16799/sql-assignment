{
 "cells": [
  {
   "cell_type": "markdown",
   "id": "9cac9dea",
   "metadata": {},
   "source": [
    "-17. Write an SQL query to show the top n (say 10) records of a table. Ans:select from (select from worker order by salary) WHERE ROWNUM <=10\n",
    "\n",
    "Q-18. Write an SQL query to determine the nth (say n=5) highest salary from a table. ANs:select salary from worker order by salary desc limit n-1,1"
   ]
  },
  {
   "cell_type": "code",
   "execution_count": null,
   "id": "78b5f793",
   "metadata": {},
   "outputs": [],
   "source": []
  }
 ],
 "metadata": {
  "kernelspec": {
   "display_name": "Python 3 (ipykernel)",
   "language": "python",
   "name": "python3"
  },
  "language_info": {
   "codemirror_mode": {
    "name": "ipython",
    "version": 3
   },
   "file_extension": ".py",
   "mimetype": "text/x-python",
   "name": "python",
   "nbconvert_exporter": "python",
   "pygments_lexer": "ipython3",
   "version": "3.9.7"
  }
 },
 "nbformat": 4,
 "nbformat_minor": 5
}
