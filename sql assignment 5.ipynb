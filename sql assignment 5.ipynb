{
 "cells": [
  {
   "cell_type": "code",
   "execution_count": null,
   "id": "67bda61f",
   "metadata": {},
   "outputs": [],
   "source": [
    "Q-1. Write an SQL query to print details of workers excluding first names, “Vipul” and\n",
    "“Satish” from Worker table.\n",
    "\n",
    "Ans select * from workers where first_name not in (“Vipul”,\n",
    "“Satish”)\n",
    "\n",
    "Q2 Q-2. Write an SQL query to print details of the Workers whose FIRST_NAME ends with\n",
    "‘h’ and contains six alphabets.\n",
    "\n",
    "Ans select * from worker where first_name like "
   ]
  }
 ],
 "metadata": {
  "kernelspec": {
   "display_name": "Python 3 (ipykernel)",
   "language": "python",
   "name": "python3"
  },
  "language_info": {
   "codemirror_mode": {
    "name": "ipython",
    "version": 3
   },
   "file_extension": ".py",
   "mimetype": "text/x-python",
   "name": "python",
   "nbconvert_exporter": "python",
   "pygments_lexer": "ipython3",
   "version": "3.9.7"
  }
 },
 "nbformat": 4,
 "nbformat_minor": 5
}
