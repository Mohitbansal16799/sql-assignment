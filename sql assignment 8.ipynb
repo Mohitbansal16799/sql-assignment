{
 "cells": [
  {
   "cell_type": "markdown",
   "id": "4a2b7e87",
   "metadata": {},
   "source": [
    "Q-15. Write an SQL query to fetch intersecting records of two tables Ans:(select from worker) INTERSECT (select from workerclone)\n",
    "\n",
    "Q-16. Write an SQL query to show records from one table that another table does not have. Ans:select from worker MINUS select from title"
   ]
  },
  {
   "cell_type": "code",
   "execution_count": null,
   "id": "97802f1f",
   "metadata": {},
   "outputs": [],
   "source": []
  }
 ],
 "metadata": {
  "kernelspec": {
   "display_name": "Python 3 (ipykernel)",
   "language": "python",
   "name": "python3"
  },
  "language_info": {
   "codemirror_mode": {
    "name": "ipython",
    "version": 3
   },
   "file_extension": ".py",
   "mimetype": "text/x-python",
   "name": "python",
   "nbconvert_exporter": "python",
   "pygments_lexer": "ipython3",
   "version": "3.9.7"
  }
 },
 "nbformat": 4,
 "nbformat_minor": 5
}
