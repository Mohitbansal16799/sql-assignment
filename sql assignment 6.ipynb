{
 "cells": [
  {
   "cell_type": "markdown",
   "id": "c55300b2",
   "metadata": {},
   "source": [
    "Q-1. Write an SQL query to print details of the Workers who have joined in Feb’2014. Ans:select * from worker WHERE year(JOINING_DATE)=2014 and month(JOINING_DATE)=2\n",
    "\n",
    "Q-2. Write an SQL query to fetch duplicate records having matching data in some fields of a table. ANS:select WORKER_TITLE, AFFECTED_FROM, count() from Title group by WORKER_TITLE, AFFECTED_FROM having count() > 1\n",
    "\n",
    "Q-3. How to remove duplicate rows from Employees table. Ans:DELETE from Employees where emp_ID not in (select max(emp_id) as max record from employees group by [ emp_name] , [job_name], [manager_id], [ hire_date] [ salary ] ,[ commission ] ,[dep_id]"
   ]
  },
  {
   "cell_type": "code",
   "execution_count": null,
   "id": "d915d04b",
   "metadata": {},
   "outputs": [],
   "source": []
  }
 ],
 "metadata": {
  "kernelspec": {
   "display_name": "Python 3 (ipykernel)",
   "language": "python",
   "name": "python3"
  },
  "language_info": {
   "codemirror_mode": {
    "name": "ipython",
    "version": 3
   },
   "file_extension": ".py",
   "mimetype": "text/x-python",
   "name": "python",
   "nbconvert_exporter": "python",
   "pygments_lexer": "ipython3",
   "version": "3.9.7"
  }
 },
 "nbformat": 4,
 "nbformat_minor": 5
}
