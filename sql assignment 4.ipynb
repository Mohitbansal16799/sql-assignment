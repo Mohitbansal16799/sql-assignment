{
 "cells": [
  {
   "cell_type": "markdown",
   "id": "dc8882d5",
   "metadata": {},
   "source": [
    "Q-1. Write an SQL query to print the FIRST_NAME from Worker table after replacing ‘a’ with ‘A’. \n",
    "\n",
    "Ans: select REPLACE(FIRST_NAME,'a','A') from worker\n",
    "\n",
    "Q-2. Write an SQL query to print all Worker details from the Worker table order by FIRST_NAME Ascending and DEPARTMENT Descending. \n",
    "\n",
    "Ans:select * from worker order by FIRST_NAME asc,DEPARTMENT desc\n",
    "\n",
    "Q-3. Write an SQL query to fetch the names of workers who earn the highest salary. \n",
    "\n",
    "Ans:select FIRST_NAME,SALARY from worker WHERE SALARY=(select max(SALARY) from worker)"
   ]
  },
  {
   "cell_type": "code",
   "execution_count": null,
   "id": "8a44571b",
   "metadata": {},
   "outputs": [],
   "source": []
  }
 ],
 "metadata": {
  "kernelspec": {
   "display_name": "Python 3 (ipykernel)",
   "language": "python",
   "name": "python3"
  },
  "language_info": {
   "codemirror_mode": {
    "name": "ipython",
    "version": 3
   },
   "file_extension": ".py",
   "mimetype": "text/x-python",
   "name": "python",
   "nbconvert_exporter": "python",
   "pygments_lexer": "ipython3",
   "version": "3.9.7"
  }
 },
 "nbformat": 4,
 "nbformat_minor": 5
}
